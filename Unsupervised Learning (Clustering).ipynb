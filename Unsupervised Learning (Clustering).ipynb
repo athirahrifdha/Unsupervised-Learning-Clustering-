{
  "nbformat": 4,
  "nbformat_minor": 0,
  "metadata": {
    "colab": {
      "name": "1301183455-Athirah Rifdha Aryani.ipynb",
      "provenance": []
    },
    "kernelspec": {
      "name": "python3",
      "display_name": "Python 3"
    },
    "language_info": {
      "name": "python"
    }
  },
  "cells": [
    {
      "cell_type": "code",
      "metadata": {
        "id": "iy4fjj1RCBwP"
      },
      "source": [
        "import pandas as pd\n",
        "import csv\n",
        "import numpy as np \n",
        "import matplotlib.pyplot as plt \n",
        "from sklearn.preprocessing import LabelEncoder\n",
        "from sklearn.decomposition import PCA\n",
        "import random\n",
        "import math"
      ],
      "execution_count": null,
      "outputs": []
    },
    {
      "cell_type": "markdown",
      "metadata": {
        "id": "YRng83dz_z9Q"
      },
      "source": [
        "<h1>UNSUPERVISED LEARNING (CLUSTERING)"
      ]
    },
    {
      "cell_type": "markdown",
      "metadata": {
        "id": "RWTTujPW_3Rw"
      },
      "source": [
        " Meng-<i>input</i> dataset (kendaraaan_train.csv)"
      ]
    },
    {
      "cell_type": "code",
      "metadata": {
        "id": "1VZscbe9_6_M"
      },
      "source": [
        "data_kendaraanTrain = pd.read_csv(\"kendaraan_train.csv\")\n",
        "data_kendaraanTrain.head()"
      ],
      "execution_count": null,
      "outputs": []
    },
    {
      "cell_type": "markdown",
      "metadata": {
        "id": "D3xje1u_CejG"
      },
      "source": [
        "Periksa dataset apakah terdapat data NaN/Null/Kosong pada setiap rownya"
      ]
    },
    {
      "cell_type": "code",
      "metadata": {
        "id": "rT2fLp5ACfhf"
      },
      "source": [
        "data_kendaraanTrain.isnull().values.any()"
      ],
      "execution_count": null,
      "outputs": []
    },
    {
      "cell_type": "markdown",
      "metadata": {
        "id": "1kda5UfKHSub"
      },
      "source": [
        "Karena terdapat data NaN pada dataset, maka data yang memiliki value NaN akan di-drop"
      ]
    },
    {
      "cell_type": "code",
      "metadata": {
        "id": "Oka6YePTHTOn"
      },
      "source": [
        "data_kendaraanTrain = data_kendaraanTrain.dropna()"
      ],
      "execution_count": null,
      "outputs": []
    },
    {
      "cell_type": "code",
      "metadata": {
        "colab": {
          "base_uri": "https://localhost:8080/",
          "height": 224
        },
        "id": "zd1zGR4pHWNX",
        "outputId": "4915ffe4-0d43-408a-b9fe-0efb439dcde3"
      },
      "source": [
        "data_kendaraanTrain.head()"
      ],
      "execution_count": null,
      "outputs": [
        {
          "output_type": "execute_result",
          "data": {
            "text/html": [
              "<div>\n",
              "<style scoped>\n",
              "    .dataframe tbody tr th:only-of-type {\n",
              "        vertical-align: middle;\n",
              "    }\n",
              "\n",
              "    .dataframe tbody tr th {\n",
              "        vertical-align: top;\n",
              "    }\n",
              "\n",
              "    .dataframe thead th {\n",
              "        text-align: right;\n",
              "    }\n",
              "</style>\n",
              "<table border=\"1\" class=\"dataframe\">\n",
              "  <thead>\n",
              "    <tr style=\"text-align: right;\">\n",
              "      <th></th>\n",
              "      <th>id</th>\n",
              "      <th>Jenis_Kelamin</th>\n",
              "      <th>Umur</th>\n",
              "      <th>SIM</th>\n",
              "      <th>Kode_Daerah</th>\n",
              "      <th>Sudah_Asuransi</th>\n",
              "      <th>Umur_Kendaraan</th>\n",
              "      <th>Kendaraan_Rusak</th>\n",
              "      <th>Premi</th>\n",
              "      <th>Kanal_Penjualan</th>\n",
              "      <th>Lama_Berlangganan</th>\n",
              "      <th>Tertarik</th>\n",
              "    </tr>\n",
              "  </thead>\n",
              "  <tbody>\n",
              "    <tr>\n",
              "      <th>0</th>\n",
              "      <td>1</td>\n",
              "      <td>Wanita</td>\n",
              "      <td>30.0</td>\n",
              "      <td>1.0</td>\n",
              "      <td>33.0</td>\n",
              "      <td>1.0</td>\n",
              "      <td>&lt; 1 Tahun</td>\n",
              "      <td>Tidak</td>\n",
              "      <td>28029.0</td>\n",
              "      <td>152.0</td>\n",
              "      <td>97.0</td>\n",
              "      <td>0</td>\n",
              "    </tr>\n",
              "    <tr>\n",
              "      <th>1</th>\n",
              "      <td>2</td>\n",
              "      <td>Pria</td>\n",
              "      <td>48.0</td>\n",
              "      <td>1.0</td>\n",
              "      <td>39.0</td>\n",
              "      <td>0.0</td>\n",
              "      <td>&gt; 2 Tahun</td>\n",
              "      <td>Pernah</td>\n",
              "      <td>25800.0</td>\n",
              "      <td>29.0</td>\n",
              "      <td>158.0</td>\n",
              "      <td>0</td>\n",
              "    </tr>\n",
              "    <tr>\n",
              "      <th>3</th>\n",
              "      <td>4</td>\n",
              "      <td>Wanita</td>\n",
              "      <td>58.0</td>\n",
              "      <td>1.0</td>\n",
              "      <td>48.0</td>\n",
              "      <td>0.0</td>\n",
              "      <td>1-2 Tahun</td>\n",
              "      <td>Tidak</td>\n",
              "      <td>2630.0</td>\n",
              "      <td>124.0</td>\n",
              "      <td>63.0</td>\n",
              "      <td>0</td>\n",
              "    </tr>\n",
              "    <tr>\n",
              "      <th>5</th>\n",
              "      <td>6</td>\n",
              "      <td>Pria</td>\n",
              "      <td>21.0</td>\n",
              "      <td>1.0</td>\n",
              "      <td>35.0</td>\n",
              "      <td>1.0</td>\n",
              "      <td>&lt; 1 Tahun</td>\n",
              "      <td>Tidak</td>\n",
              "      <td>22735.0</td>\n",
              "      <td>152.0</td>\n",
              "      <td>171.0</td>\n",
              "      <td>0</td>\n",
              "    </tr>\n",
              "    <tr>\n",
              "      <th>8</th>\n",
              "      <td>9</td>\n",
              "      <td>Wanita</td>\n",
              "      <td>20.0</td>\n",
              "      <td>1.0</td>\n",
              "      <td>8.0</td>\n",
              "      <td>1.0</td>\n",
              "      <td>&lt; 1 Tahun</td>\n",
              "      <td>Tidak</td>\n",
              "      <td>30786.0</td>\n",
              "      <td>160.0</td>\n",
              "      <td>31.0</td>\n",
              "      <td>0</td>\n",
              "    </tr>\n",
              "  </tbody>\n",
              "</table>\n",
              "</div>"
            ],
            "text/plain": [
              "   id Jenis_Kelamin  Umur  ...  Kanal_Penjualan  Lama_Berlangganan  Tertarik\n",
              "0   1        Wanita  30.0  ...            152.0               97.0         0\n",
              "1   2          Pria  48.0  ...             29.0              158.0         0\n",
              "3   4        Wanita  58.0  ...            124.0               63.0         0\n",
              "5   6          Pria  21.0  ...            152.0              171.0         0\n",
              "8   9        Wanita  20.0  ...            160.0               31.0         0\n",
              "\n",
              "[5 rows x 12 columns]"
            ]
          },
          "metadata": {},
          "execution_count": 8
        }
      ]
    },
    {
      "cell_type": "code",
      "metadata": {
        "colab": {
          "base_uri": "https://localhost:8080/"
        },
        "id": "QG5D2D2hCnPc",
        "outputId": "a0dd8543-deea-4013-8429-a8bd49fe7129"
      },
      "source": [
        "data_kendaraanTrain.dtypes"
      ],
      "execution_count": null,
      "outputs": [
        {
          "output_type": "execute_result",
          "data": {
            "text/plain": [
              "id                     int64\n",
              "Jenis_Kelamin         object\n",
              "Umur                 float64\n",
              "SIM                  float64\n",
              "Kode_Daerah          float64\n",
              "Sudah_Asuransi       float64\n",
              "Umur_Kendaraan        object\n",
              "Kendaraan_Rusak       object\n",
              "Premi                float64\n",
              "Kanal_Penjualan      float64\n",
              "Lama_Berlangganan    float64\n",
              "Tertarik               int64\n",
              "dtype: object"
            ]
          },
          "metadata": {},
          "execution_count": 9
        }
      ]
    },
    {
      "cell_type": "markdown",
      "metadata": {
        "id": "2bIoEhUCHq_B"
      },
      "source": [
        "Karena tipe data Jenis_Kelamin, Umur_Kendaraan, dan Kendaraan_Rusak bertipe objek, maka kolom-kolom tersebut dirubah ke tipe numerik"
      ]
    },
    {
      "cell_type": "code",
      "metadata": {
        "id": "91N8CYfAEJ0D"
      },
      "source": [
        "data_kendaraanTrain['Jenis_Kelamin'] = LabelEncoder().fit_transform(data_kendaraanTrain['Jenis_Kelamin'])\n",
        "data_kendaraanTrain['Umur_Kendaraan'] = LabelEncoder().fit_transform(data_kendaraanTrain['Umur_Kendaraan'])\n",
        "data_kendaraanTrain['Kendaraan_Rusak'] = LabelEncoder().fit_transform(data_kendaraanTrain['Kendaraan_Rusak'])"
      ],
      "execution_count": null,
      "outputs": []
    },
    {
      "cell_type": "code",
      "metadata": {
        "id": "6NIOGYXIHfZF",
        "colab": {
          "base_uri": "https://localhost:8080/",
          "height": 224
        },
        "outputId": "94ef86fb-e0dc-4996-bfce-75f710cb24ee"
      },
      "source": [
        "data_kendaraanTrain.head()"
      ],
      "execution_count": null,
      "outputs": [
        {
          "output_type": "execute_result",
          "data": {
            "text/html": [
              "<div>\n",
              "<style scoped>\n",
              "    .dataframe tbody tr th:only-of-type {\n",
              "        vertical-align: middle;\n",
              "    }\n",
              "\n",
              "    .dataframe tbody tr th {\n",
              "        vertical-align: top;\n",
              "    }\n",
              "\n",
              "    .dataframe thead th {\n",
              "        text-align: right;\n",
              "    }\n",
              "</style>\n",
              "<table border=\"1\" class=\"dataframe\">\n",
              "  <thead>\n",
              "    <tr style=\"text-align: right;\">\n",
              "      <th></th>\n",
              "      <th>id</th>\n",
              "      <th>Jenis_Kelamin</th>\n",
              "      <th>Umur</th>\n",
              "      <th>SIM</th>\n",
              "      <th>Kode_Daerah</th>\n",
              "      <th>Sudah_Asuransi</th>\n",
              "      <th>Umur_Kendaraan</th>\n",
              "      <th>Kendaraan_Rusak</th>\n",
              "      <th>Premi</th>\n",
              "      <th>Kanal_Penjualan</th>\n",
              "      <th>Lama_Berlangganan</th>\n",
              "      <th>Tertarik</th>\n",
              "    </tr>\n",
              "  </thead>\n",
              "  <tbody>\n",
              "    <tr>\n",
              "      <th>0</th>\n",
              "      <td>1</td>\n",
              "      <td>1</td>\n",
              "      <td>30.0</td>\n",
              "      <td>1.0</td>\n",
              "      <td>33.0</td>\n",
              "      <td>1.0</td>\n",
              "      <td>1</td>\n",
              "      <td>1</td>\n",
              "      <td>28029.0</td>\n",
              "      <td>152.0</td>\n",
              "      <td>97.0</td>\n",
              "      <td>0</td>\n",
              "    </tr>\n",
              "    <tr>\n",
              "      <th>1</th>\n",
              "      <td>2</td>\n",
              "      <td>0</td>\n",
              "      <td>48.0</td>\n",
              "      <td>1.0</td>\n",
              "      <td>39.0</td>\n",
              "      <td>0.0</td>\n",
              "      <td>2</td>\n",
              "      <td>0</td>\n",
              "      <td>25800.0</td>\n",
              "      <td>29.0</td>\n",
              "      <td>158.0</td>\n",
              "      <td>0</td>\n",
              "    </tr>\n",
              "    <tr>\n",
              "      <th>3</th>\n",
              "      <td>4</td>\n",
              "      <td>1</td>\n",
              "      <td>58.0</td>\n",
              "      <td>1.0</td>\n",
              "      <td>48.0</td>\n",
              "      <td>0.0</td>\n",
              "      <td>0</td>\n",
              "      <td>1</td>\n",
              "      <td>2630.0</td>\n",
              "      <td>124.0</td>\n",
              "      <td>63.0</td>\n",
              "      <td>0</td>\n",
              "    </tr>\n",
              "    <tr>\n",
              "      <th>5</th>\n",
              "      <td>6</td>\n",
              "      <td>0</td>\n",
              "      <td>21.0</td>\n",
              "      <td>1.0</td>\n",
              "      <td>35.0</td>\n",
              "      <td>1.0</td>\n",
              "      <td>1</td>\n",
              "      <td>1</td>\n",
              "      <td>22735.0</td>\n",
              "      <td>152.0</td>\n",
              "      <td>171.0</td>\n",
              "      <td>0</td>\n",
              "    </tr>\n",
              "    <tr>\n",
              "      <th>8</th>\n",
              "      <td>9</td>\n",
              "      <td>1</td>\n",
              "      <td>20.0</td>\n",
              "      <td>1.0</td>\n",
              "      <td>8.0</td>\n",
              "      <td>1.0</td>\n",
              "      <td>1</td>\n",
              "      <td>1</td>\n",
              "      <td>30786.0</td>\n",
              "      <td>160.0</td>\n",
              "      <td>31.0</td>\n",
              "      <td>0</td>\n",
              "    </tr>\n",
              "  </tbody>\n",
              "</table>\n",
              "</div>"
            ],
            "text/plain": [
              "   id  Jenis_Kelamin  Umur  ...  Kanal_Penjualan  Lama_Berlangganan  Tertarik\n",
              "0   1              1  30.0  ...            152.0               97.0         0\n",
              "1   2              0  48.0  ...             29.0              158.0         0\n",
              "3   4              1  58.0  ...            124.0               63.0         0\n",
              "5   6              0  21.0  ...            152.0              171.0         0\n",
              "8   9              1  20.0  ...            160.0               31.0         0\n",
              "\n",
              "[5 rows x 12 columns]"
            ]
          },
          "metadata": {},
          "execution_count": 11
        }
      ]
    },
    {
      "cell_type": "markdown",
      "metadata": {
        "id": "SqrMSOXJHxCN"
      },
      "source": [
        "Kolom id tidak digunakan, maka akan di-drop"
      ]
    },
    {
      "cell_type": "code",
      "metadata": {
        "id": "oolP_6TeHzVK"
      },
      "source": [
        "data_kendaraanTrain = data_kendaraanTrain.drop(['id'], axis=1)"
      ],
      "execution_count": null,
      "outputs": []
    },
    {
      "cell_type": "code",
      "metadata": {
        "colab": {
          "base_uri": "https://localhost:8080/",
          "height": 224
        },
        "id": "aoTTYH1PH1AE",
        "outputId": "3934efc6-7c3a-4ee1-c451-5850411aade6"
      },
      "source": [
        "data_kendaraanTrain.head()"
      ],
      "execution_count": null,
      "outputs": [
        {
          "output_type": "execute_result",
          "data": {
            "text/html": [
              "<div>\n",
              "<style scoped>\n",
              "    .dataframe tbody tr th:only-of-type {\n",
              "        vertical-align: middle;\n",
              "    }\n",
              "\n",
              "    .dataframe tbody tr th {\n",
              "        vertical-align: top;\n",
              "    }\n",
              "\n",
              "    .dataframe thead th {\n",
              "        text-align: right;\n",
              "    }\n",
              "</style>\n",
              "<table border=\"1\" class=\"dataframe\">\n",
              "  <thead>\n",
              "    <tr style=\"text-align: right;\">\n",
              "      <th></th>\n",
              "      <th>Jenis_Kelamin</th>\n",
              "      <th>Umur</th>\n",
              "      <th>SIM</th>\n",
              "      <th>Kode_Daerah</th>\n",
              "      <th>Sudah_Asuransi</th>\n",
              "      <th>Umur_Kendaraan</th>\n",
              "      <th>Kendaraan_Rusak</th>\n",
              "      <th>Premi</th>\n",
              "      <th>Kanal_Penjualan</th>\n",
              "      <th>Lama_Berlangganan</th>\n",
              "      <th>Tertarik</th>\n",
              "    </tr>\n",
              "  </thead>\n",
              "  <tbody>\n",
              "    <tr>\n",
              "      <th>0</th>\n",
              "      <td>1</td>\n",
              "      <td>30.0</td>\n",
              "      <td>1.0</td>\n",
              "      <td>33.0</td>\n",
              "      <td>1.0</td>\n",
              "      <td>1</td>\n",
              "      <td>1</td>\n",
              "      <td>28029.0</td>\n",
              "      <td>152.0</td>\n",
              "      <td>97.0</td>\n",
              "      <td>0</td>\n",
              "    </tr>\n",
              "    <tr>\n",
              "      <th>1</th>\n",
              "      <td>0</td>\n",
              "      <td>48.0</td>\n",
              "      <td>1.0</td>\n",
              "      <td>39.0</td>\n",
              "      <td>0.0</td>\n",
              "      <td>2</td>\n",
              "      <td>0</td>\n",
              "      <td>25800.0</td>\n",
              "      <td>29.0</td>\n",
              "      <td>158.0</td>\n",
              "      <td>0</td>\n",
              "    </tr>\n",
              "    <tr>\n",
              "      <th>3</th>\n",
              "      <td>1</td>\n",
              "      <td>58.0</td>\n",
              "      <td>1.0</td>\n",
              "      <td>48.0</td>\n",
              "      <td>0.0</td>\n",
              "      <td>0</td>\n",
              "      <td>1</td>\n",
              "      <td>2630.0</td>\n",
              "      <td>124.0</td>\n",
              "      <td>63.0</td>\n",
              "      <td>0</td>\n",
              "    </tr>\n",
              "    <tr>\n",
              "      <th>5</th>\n",
              "      <td>0</td>\n",
              "      <td>21.0</td>\n",
              "      <td>1.0</td>\n",
              "      <td>35.0</td>\n",
              "      <td>1.0</td>\n",
              "      <td>1</td>\n",
              "      <td>1</td>\n",
              "      <td>22735.0</td>\n",
              "      <td>152.0</td>\n",
              "      <td>171.0</td>\n",
              "      <td>0</td>\n",
              "    </tr>\n",
              "    <tr>\n",
              "      <th>8</th>\n",
              "      <td>1</td>\n",
              "      <td>20.0</td>\n",
              "      <td>1.0</td>\n",
              "      <td>8.0</td>\n",
              "      <td>1.0</td>\n",
              "      <td>1</td>\n",
              "      <td>1</td>\n",
              "      <td>30786.0</td>\n",
              "      <td>160.0</td>\n",
              "      <td>31.0</td>\n",
              "      <td>0</td>\n",
              "    </tr>\n",
              "  </tbody>\n",
              "</table>\n",
              "</div>"
            ],
            "text/plain": [
              "   Jenis_Kelamin  Umur  SIM  ...  Kanal_Penjualan  Lama_Berlangganan  Tertarik\n",
              "0              1  30.0  1.0  ...            152.0               97.0         0\n",
              "1              0  48.0  1.0  ...             29.0              158.0         0\n",
              "3              1  58.0  1.0  ...            124.0               63.0         0\n",
              "5              0  21.0  1.0  ...            152.0              171.0         0\n",
              "8              1  20.0  1.0  ...            160.0               31.0         0\n",
              "\n",
              "[5 rows x 11 columns]"
            ]
          },
          "metadata": {},
          "execution_count": 13
        }
      ]
    },
    {
      "cell_type": "markdown",
      "metadata": {
        "id": "R7JSqAmsH3X3"
      },
      "source": [
        "Dataset tersebut memiliki fitur lebih dari 2, maka dari itu, dataset dirubah ke bentuk PCA atau Principal component analysis."
      ]
    },
    {
      "cell_type": "code",
      "metadata": {
        "id": "nvVYNayYIB4X"
      },
      "source": [
        "pca = PCA(n_components=2)\n",
        "data_kendaraanTrain_pca = pca.fit_transform(data_kendaraanTrain.drop(['Tertarik'], axis=1))"
      ],
      "execution_count": null,
      "outputs": []
    },
    {
      "cell_type": "markdown",
      "metadata": {
        "id": "Wn1Bf-fLID9T"
      },
      "source": [
        "Setelah dataset dirubah, maka akan terlihat seperti array di bawah (2 Dimensi)"
      ]
    },
    {
      "cell_type": "code",
      "metadata": {
        "id": "SZeB6hnoI1LB",
        "colab": {
          "base_uri": "https://localhost:8080/"
        },
        "outputId": "713121e8-5ea0-4b8a-bb7b-b6ecda93e6fa"
      },
      "source": [
        "data_kendaraanTrain_pca"
      ],
      "execution_count": null,
      "outputs": [
        {
          "output_type": "execute_result",
          "data": {
            "text/plain": [
              "array([[-2.47776147e+03, -5.72376644e+01],\n",
              "       [-4.70671699e+03,  3.63637212e+00],\n",
              "       [-2.78767482e+04, -9.14421772e+01],\n",
              "       ...,\n",
              "       [ 1.92442358e+04,  7.18943512e+01],\n",
              "       [-3.75029075e+00,  1.15761727e+02],\n",
              "       [ 5.97328402e+03, -1.10289210e+02]])"
            ]
          },
          "metadata": {},
          "execution_count": 15
        }
      ]
    },
    {
      "cell_type": "markdown",
      "metadata": {
        "id": "87mDmideI606"
      },
      "source": [
        "VISUALISASI DATASET PCA"
      ]
    },
    {
      "cell_type": "code",
      "metadata": {
        "colab": {
          "base_uri": "https://localhost:8080/",
          "height": 265
        },
        "id": "9P9eiYpII_kF",
        "outputId": "f50059f8-0e4f-47e9-9700-867f46e629ae"
      },
      "source": [
        "plt.scatter(data_kendaraanTrain_pca[:,0],data_kendaraanTrain_pca[:,1], color=[\"green\"])\n",
        "plt.show()"
      ],
      "execution_count": null,
      "outputs": [
        {
          "output_type": "display_data",
          "data": {
            "image/png": "[encoded data removed]",
            "text/plain": [
              "<Figure size 432x288 with 1 Axes>"
            ]
          },
          "metadata": {
            "needs_background": "light"
          }
        }
      ]
    },
    {
      "cell_type": "markdown",
      "metadata": {
        "id": "CFnUo0AaJFh0"
      },
      "source": [
        "<h3>Fungsi-fungsi yang digunakan untuk K-NN</h3>"
      ]
    },
    {
      "cell_type": "code",
      "metadata": {
        "id": "SmidPHIvJEll"
      },
      "source": [
        "#menghtiung jarak menggunakan metode Euclidean Distance\n",
        "def euclidianDistance(a,b):\n",
        "    hasil = 0\n",
        "    for i in range(len(a)):\n",
        "        hasil = hasil + math.pow(a[i]-b[i],2)\n",
        "    return math.sqrt(hasil)\n",
        "\n",
        "#mencari rata-rata jarak antara data ke centroid, kemudian mengembalikan centroid baru\n",
        "def meanCentroid(c):\n",
        "    new_centroid = []\n",
        "    for i in range(len(c[0])):\n",
        "        res = 0\n",
        "        for j in range(len(c)):\n",
        "            res = res + c[j][i]\n",
        "        res = res/len(c)\n",
        "        new_centroid.append(res)\n",
        "    return new_centroid\n",
        "\n",
        "#menginisiasi data kosong pada setiap centroid\n",
        "def initiateCentroidData():\n",
        "    c_arr = []\n",
        "    for i in range(len(centroid)):\n",
        "        c_arr.append([])\n",
        "    return c_arr\n",
        "\n",
        "#menghitung akurasi\n",
        "def calculateAcc2d(y_pred, y_val):\n",
        "    y_pred = np.array(y_pred)\n",
        "    y_val = np.array(y_val)\n",
        "    res = 0\n",
        "    if len(y_pred) == len(y_val):\n",
        "        for i in range(len(y_pred)):\n",
        "            if y_pred[i] == y_val[i]:\n",
        "                res = res+1\n",
        "        res = res/len(y_pred)\n",
        "    return res"
      ],
      "execution_count": null,
      "outputs": []
    },
    {
      "cell_type": "markdown",
      "metadata": {
        "id": "jxQOkKaOJLfV"
      },
      "source": [
        "inisiasi jumlah K"
      ]
    },
    {
      "cell_type": "code",
      "metadata": {
        "id": "fEzrM0FaJOQC"
      },
      "source": [
        "k = 2"
      ],
      "execution_count": null,
      "outputs": []
    },
    {
      "cell_type": "markdown",
      "metadata": {
        "id": "WOX7fc0QJT6Z"
      },
      "source": [
        "Menginisiasi centroid awal dengan memilih data secara random pada dataset"
      ]
    },
    {
      "cell_type": "code",
      "metadata": {
        "id": "1OUNSn3uJUZQ"
      },
      "source": [
        "centroid = random.sample(list(data_kendaraanTrain_pca), k)\n",
        "centroid = np.array(centroid)"
      ],
      "execution_count": null,
      "outputs": []
    },
    {
      "cell_type": "markdown",
      "metadata": {
        "id": "oWotk_mRJWNi"
      },
      "source": [
        "Melakukan perulangan untuk menjalankan algoritma K-NN"
      ]
    },
    {
      "cell_type": "code",
      "metadata": {
        "id": "fRZKN1qCJY2r"
      },
      "source": [
        "#perulangan sampai centroid sebelumnya dan centroid tidak berubah\n",
        "while True:\n",
        "    #inisiasi data terdekat (kosong) untuk setiap centroid\n",
        "    cl_arr = initiateCentroidData()\n",
        "    \n",
        "    #perulangan untuk setiap data pada dataset\n",
        "    for i in range(len(data_kendaraanTrain_pca)):\n",
        "        \n",
        "        #inisiasi index untuk jarak minimum\n",
        "        idx_min = 0\n",
        "        \n",
        "        #menghitung jarak dari data i ke centroid 0\n",
        "        min_dis = euclidianDistance(data_kendaraanTrain_pca[i],centroid[idx_min])\n",
        "        \n",
        "        #perulangan untuk menghitung jarak data i ke centroid selain 0\n",
        "        for j in range(1,len(centroid)):\n",
        "            \n",
        "            #mengitung jarak dari data i ke centroid j\n",
        "            temp_min = euclidianDistance(data_kendaraanTrain_pca[i],centroid[j])\n",
        "            \n",
        "            #memeriksa centroid manakah yang paling minimum \n",
        "            if min_dis > temp_min:\n",
        "                idx_min = j\n",
        "                min_dis = temp_min\n",
        "        \n",
        "        #memasukkan data i ke array centroid terdekat\n",
        "        cl_arr[idx_min].append(data_kendaraanTrain_pca[i])\n",
        "    \n",
        "    #centroid lama disalin\n",
        "    old_centroid = centroid.copy()\n",
        "    \n",
        "    #mencari centroid baru\n",
        "    for i in range(len(centroid)):\n",
        "        centroid[i] = meanCentroid(cl_arr[i])\n",
        "        \n",
        "    #memeriksa apakah centroid lama sama dengan centroid baru, jika iya maka perulangan terhenti\n",
        "    if (old_centroid==centroid).all():\n",
        "        break"
      ],
      "execution_count": null,
      "outputs": []
    },
    {
      "cell_type": "markdown",
      "metadata": {
        "id": "I-Xy7b0KJd3o"
      },
      "source": [
        "Hasil centroid dari algoritma K-NN setelah dilatih pada data latih (kendaraan_train.csv)"
      ]
    },
    {
      "cell_type": "code",
      "metadata": {
        "colab": {
          "base_uri": "https://localhost:8080/"
        },
        "id": "M-vgZdEaJfiu",
        "outputId": "5afdaf13-02f8-4659-d53e-66ff03c81e58"
      },
      "source": [
        "centroid"
      ],
      "execution_count": null,
      "outputs": [
        {
          "output_type": "execute_result",
          "data": {
            "text/plain": [
              "array([[ 6.12910270e+03,  9.08832943e-02],\n",
              "       [-2.63913942e+04, -3.91335725e-01]])"
            ]
          },
          "metadata": {},
          "execution_count": 22
        }
      ]
    },
    {
      "cell_type": "markdown",
      "metadata": {
        "id": "AtokmdoAJkMa"
      },
      "source": [
        "<h3> Visualisasi hasil clustering terhadap dataset </h3>"
      ]
    },
    {
      "cell_type": "code",
      "metadata": {
        "colab": {
          "base_uri": "https://localhost:8080/",
          "height": 265
        },
        "id": "ze-EOe04JkjT",
        "outputId": "8508df8c-e401-480a-cdd5-5daab9f2774f"
      },
      "source": [
        "if len(cl_arr[0][0]) == 2:\n",
        "    for i in cl_arr:\n",
        "        plt.scatter([row[0] for row in i],[row[1] for row in i])\n",
        "    for i in centroid:\n",
        "        plt.scatter(i[0],i[1],c='white')\n",
        "    plt.show()\n",
        "if len(cl_arr[0][0]) == 3:\n",
        "    ax = plt.axes(projection=\"3d\")\n",
        "    for i in cl_arr:\n",
        "        ax.scatter3D([row[0] for row in i],[row[1] for row in i],[row[2] for row in i])\n",
        "    for i in centroid:\n",
        "        ax.scatter3D(i[0],i[1],i[2],c='white')\n",
        "    plt.show()"
      ],
      "execution_count": null,
      "outputs": [
        {
          "output_type": "display_data",
          "data": {
            "image/png": "[encoded data removed]",
            "text/plain": [
              "<Figure size 432x288 with 1 Axes>"
            ]
          },
          "metadata": {
            "needs_background": "light"
          }
        }
      ]
    },
    {
      "cell_type": "markdown",
      "metadata": {
        "id": "CcGgk8k2JqPi"
      },
      "source": [
        "<h3> Menyimpan hasil clustering data latih</h3>"
      ]
    },
    {
      "cell_type": "code",
      "metadata": {
        "colab": {
          "base_uri": "https://localhost:8080/"
        },
        "id": "QnLapzU5JrLD",
        "outputId": "8418f5f1-0c8c-4298-f3a0-5c503b747ed1"
      },
      "source": [
        "try:\n",
        "    with open('clustering_result.csv','wb') as file:\n",
        "        #write column\n",
        "#         str_write = 'x,y,'\n",
        "#         file.write(str_write.encode())\n",
        "        file.write('label'.encode())\n",
        "        file.write('\\n'.encode())\n",
        "        #write data\n",
        "        for i in range(len(c_arr)):\n",
        "            for j in c_arr[i]:\n",
        "#                 str_write = ''\n",
        "#                 for k in j:\n",
        "#                     str_write = str_write+str(k)+','\n",
        "#                 file.write(str_write.encode())\n",
        "                file.write(str(i).encode()) \n",
        "                file.write('\\n'.encode())\n",
        "    print('result saved in clustering_result.csv')\n",
        "except:\n",
        "    print('Result cant be saved!')"
      ],
      "execution_count": null,
      "outputs": [
        {
          "output_type": "stream",
          "name": "stdout",
          "text": [
            "Result cant be saved!\n"
          ]
        }
      ]
    },
    {
      "cell_type": "markdown",
      "metadata": {
        "id": "ujZccKqeKCQC"
      },
      "source": [
        "<h3>Menghitung akurasi hasil prediksi data latih</h3>\n",
        "\n",
        "Ambil label pada dataset"
      ]
    },
    {
      "cell_type": "code",
      "metadata": {
        "id": "62vLvmrxKCuv"
      },
      "source": [
        "y_value = data_kendaraanTrain['Tertarik']"
      ],
      "execution_count": null,
      "outputs": []
    },
    {
      "cell_type": "markdown",
      "metadata": {
        "id": "8KyXOB0FKHKB"
      },
      "source": [
        "Ambil label prediksi dari hasil clustering"
      ]
    },
    {
      "cell_type": "code",
      "metadata": {
        "id": "9C7k4ULcKE-c"
      },
      "source": [
        "y_prediction = pd.read_csv('clustering_result.csv')\n",
        "y_prediction = y_prediction['label']"
      ],
      "execution_count": null,
      "outputs": []
    },
    {
      "cell_type": "markdown",
      "metadata": {
        "id": "pqE4e5wwKPhw"
      },
      "source": [
        "Menghitung akurasinya"
      ]
    },
    {
      "cell_type": "code",
      "metadata": {
        "colab": {
          "base_uri": "https://localhost:8080/"
        },
        "id": "qcQRN880KRmi",
        "outputId": "d8b41388-910c-4aca-ac47-a6142547132a"
      },
      "source": [
        "acc = calculateAcc2d(y_value,y_prediction)\n",
        "print('Akurasi data latih: ',acc)"
      ],
      "execution_count": null,
      "outputs": [
        {
          "output_type": "stream",
          "name": "stdout",
          "text": [
            "Akurasi data latih:  0\n"
          ]
        }
      ]
    },
    {
      "cell_type": "markdown",
      "metadata": {
        "id": "j-GHvLRHKUOa"
      },
      "source": [
        "<h3> Menerapkan centroid </h3>\n",
        "\n",
        "Input data test"
      ]
    },
    {
      "cell_type": "code",
      "metadata": {
        "id": "-EwWuxgMKVAp"
      },
      "source": [
        "data_kendaraanTest = pd.read_csv('kendaraan_test.csv')"
      ],
      "execution_count": null,
      "outputs": []
    },
    {
      "cell_type": "markdown",
      "metadata": {
        "id": "bS_2QmR2KY7n"
      },
      "source": [
        "Periksa data test apakah terdapat data NaN/Null/Kosong pada setiap rownya"
      ]
    },
    {
      "cell_type": "code",
      "metadata": {
        "colab": {
          "base_uri": "https://localhost:8080/"
        },
        "id": "bzuzmtYRKbmp",
        "outputId": "ed056d4d-db24-4480-fbfc-4e70f168a2ad"
      },
      "source": [
        "data_kendaraanTest.isnull().values.any()"
      ],
      "execution_count": null,
      "outputs": [
        {
          "output_type": "execute_result",
          "data": {
            "text/plain": [
              "False"
            ]
          },
          "metadata": {},
          "execution_count": 29
        }
      ]
    },
    {
      "cell_type": "code",
      "metadata": {
        "colab": {
          "base_uri": "https://localhost:8080/",
          "height": 224
        },
        "id": "VYQpckR2KdhV",
        "outputId": "7b0b71b4-2446-4f80-a798-19beb15544d7"
      },
      "source": [
        "data_kendaraanTest.head()"
      ],
      "execution_count": null,
      "outputs": [
        {
          "output_type": "execute_result",
          "data": {
            "text/html": [
              "<div>\n",
              "<style scoped>\n",
              "    .dataframe tbody tr th:only-of-type {\n",
              "        vertical-align: middle;\n",
              "    }\n",
              "\n",
              "    .dataframe tbody tr th {\n",
              "        vertical-align: top;\n",
              "    }\n",
              "\n",
              "    .dataframe thead th {\n",
              "        text-align: right;\n",
              "    }\n",
              "</style>\n",
              "<table border=\"1\" class=\"dataframe\">\n",
              "  <thead>\n",
              "    <tr style=\"text-align: right;\">\n",
              "      <th></th>\n",
              "      <th>Jenis_Kelamin</th>\n",
              "      <th>Umur</th>\n",
              "      <th>SIM</th>\n",
              "      <th>Kode_Daerah</th>\n",
              "      <th>Sudah_Asuransi</th>\n",
              "      <th>Umur_Kendaraan</th>\n",
              "      <th>Kendaraan_Rusak</th>\n",
              "      <th>Premi</th>\n",
              "      <th>Kanal_Penjualan</th>\n",
              "      <th>Lama_Berlangganan</th>\n",
              "      <th>Tertarik</th>\n",
              "    </tr>\n",
              "  </thead>\n",
              "  <tbody>\n",
              "    <tr>\n",
              "      <th>0</th>\n",
              "      <td>Wanita</td>\n",
              "      <td>49</td>\n",
              "      <td>1</td>\n",
              "      <td>8</td>\n",
              "      <td>0</td>\n",
              "      <td>1-2 Tahun</td>\n",
              "      <td>Pernah</td>\n",
              "      <td>46963</td>\n",
              "      <td>26</td>\n",
              "      <td>145</td>\n",
              "      <td>0</td>\n",
              "    </tr>\n",
              "    <tr>\n",
              "      <th>1</th>\n",
              "      <td>Pria</td>\n",
              "      <td>22</td>\n",
              "      <td>1</td>\n",
              "      <td>47</td>\n",
              "      <td>1</td>\n",
              "      <td>&lt; 1 Tahun</td>\n",
              "      <td>Tidak</td>\n",
              "      <td>39624</td>\n",
              "      <td>152</td>\n",
              "      <td>241</td>\n",
              "      <td>0</td>\n",
              "    </tr>\n",
              "    <tr>\n",
              "      <th>2</th>\n",
              "      <td>Pria</td>\n",
              "      <td>24</td>\n",
              "      <td>1</td>\n",
              "      <td>28</td>\n",
              "      <td>1</td>\n",
              "      <td>&lt; 1 Tahun</td>\n",
              "      <td>Tidak</td>\n",
              "      <td>110479</td>\n",
              "      <td>152</td>\n",
              "      <td>62</td>\n",
              "      <td>0</td>\n",
              "    </tr>\n",
              "    <tr>\n",
              "      <th>3</th>\n",
              "      <td>Pria</td>\n",
              "      <td>46</td>\n",
              "      <td>1</td>\n",
              "      <td>8</td>\n",
              "      <td>1</td>\n",
              "      <td>1-2 Tahun</td>\n",
              "      <td>Tidak</td>\n",
              "      <td>36266</td>\n",
              "      <td>124</td>\n",
              "      <td>34</td>\n",
              "      <td>0</td>\n",
              "    </tr>\n",
              "    <tr>\n",
              "      <th>4</th>\n",
              "      <td>Pria</td>\n",
              "      <td>35</td>\n",
              "      <td>1</td>\n",
              "      <td>23</td>\n",
              "      <td>0</td>\n",
              "      <td>1-2 Tahun</td>\n",
              "      <td>Pernah</td>\n",
              "      <td>26963</td>\n",
              "      <td>152</td>\n",
              "      <td>229</td>\n",
              "      <td>0</td>\n",
              "    </tr>\n",
              "  </tbody>\n",
              "</table>\n",
              "</div>"
            ],
            "text/plain": [
              "  Jenis_Kelamin  Umur  SIM  ...  Kanal_Penjualan  Lama_Berlangganan Tertarik\n",
              "0        Wanita    49    1  ...               26                145        0\n",
              "1          Pria    22    1  ...              152                241        0\n",
              "2          Pria    24    1  ...              152                 62        0\n",
              "3          Pria    46    1  ...              124                 34        0\n",
              "4          Pria    35    1  ...              152                229        0\n",
              "\n",
              "[5 rows x 11 columns]"
            ]
          },
          "metadata": {},
          "execution_count": 30
        }
      ]
    },
    {
      "cell_type": "code",
      "metadata": {
        "id": "W2WCgOoiKysj",
        "colab": {
          "base_uri": "https://localhost:8080/"
        },
        "outputId": "06a8d9a3-3349-41cd-c1a6-e243959e0b31"
      },
      "source": [
        "data_kendaraanTest.dtypes"
      ],
      "execution_count": null,
      "outputs": [
        {
          "output_type": "execute_result",
          "data": {
            "text/plain": [
              "Jenis_Kelamin        object\n",
              "Umur                  int64\n",
              "SIM                   int64\n",
              "Kode_Daerah           int64\n",
              "Sudah_Asuransi        int64\n",
              "Umur_Kendaraan       object\n",
              "Kendaraan_Rusak      object\n",
              "Premi                 int64\n",
              "Kanal_Penjualan       int64\n",
              "Lama_Berlangganan     int64\n",
              "Tertarik              int64\n",
              "dtype: object"
            ]
          },
          "metadata": {},
          "execution_count": 31
        }
      ]
    },
    {
      "cell_type": "markdown",
      "metadata": {
        "id": "X9915faJK1Dq"
      },
      "source": [
        "Karena tipe data Jenis_Kelamin, Umur_Kendaraan, dan Kendaraan_Rusak bertipe objek, maka kolom-kolom tersebut dirubah ke tipe numerik"
      ]
    },
    {
      "cell_type": "code",
      "metadata": {
        "id": "uw1AENqvK1eK"
      },
      "source": [
        "data_kendaraanTest['Jenis_Kelamin'] = LabelEncoder().fit_transform(data_kendaraanTest['Jenis_Kelamin'])\n",
        "data_kendaraanTest['Umur_Kendaraan'] = LabelEncoder().fit_transform(data_kendaraanTest['Umur_Kendaraan'])\n",
        "data_kendaraanTest['Kendaraan_Rusak'] = LabelEncoder().fit_transform(data_kendaraanTest['Kendaraan_Rusak'])\n"
      ],
      "execution_count": null,
      "outputs": []
    },
    {
      "cell_type": "markdown",
      "metadata": {
        "id": "ODMdD_YOLxGO"
      },
      "source": [
        "fitur lebih dari 2, maka dataset dirubah ke bentuk PCA atau Principal component analysis."
      ]
    },
    {
      "cell_type": "code",
      "metadata": {
        "id": "aLHXMKq2K70N"
      },
      "source": [
        "data_kendaraanTest_pca = pca.fit_transform(data_kendaraanTest.drop(['Tertarik'], axis=1))"
      ],
      "execution_count": null,
      "outputs": []
    },
    {
      "cell_type": "code",
      "metadata": {
        "colab": {
          "base_uri": "https://localhost:8080/"
        },
        "id": "eF6MoUcgL1YE",
        "outputId": "af6a3260-3fd9-4796-f735-f27aac84bc70"
      },
      "source": [
        "data_kendaraanTest_pca"
      ],
      "execution_count": null,
      "outputs": [
        {
          "output_type": "execute_result",
          "data": {
            "text/plain": [
              "array([[ 1.63365521e+04, -8.86774363e+00],\n",
              "       [ 8.99749881e+03,  8.67398272e+01],\n",
              "       [ 7.98524986e+04, -9.02465144e+01],\n",
              "       ...,\n",
              "       [ 2.47450042e+03,  5.65752208e+01],\n",
              "       [ 7.16155076e+03,  8.48477398e+01],\n",
              "       [-2.79964831e+04,  1.47422180e+01]])"
            ]
          },
          "metadata": {},
          "execution_count": 34
        }
      ]
    },
    {
      "cell_type": "markdown",
      "metadata": {
        "id": "GtiZCvJAL1w5"
      },
      "source": [
        "<h3>Visual data test PCA</h3>"
      ]
    },
    {
      "cell_type": "code",
      "metadata": {
        "colab": {
          "base_uri": "https://localhost:8080/",
          "height": 265
        },
        "id": "I1v-TbSQL6cW",
        "outputId": "6883f9c1-4e7f-4a83-ef68-da8a4ac2fc83"
      },
      "source": [
        "plt.scatter(data_kendaraanTest_pca[:,0],data_kendaraanTest_pca[:,1], color = \"purple\")\n",
        "plt.show()"
      ],
      "execution_count": null,
      "outputs": [
        {
          "output_type": "display_data",
          "data": {
            "image/png": "[encoded data removed]",
            "text/plain": [
              "<Figure size 432x288 with 1 Axes>"
            ]
          },
          "metadata": {
            "needs_background": "light"
          }
        }
      ]
    },
    {
      "cell_type": "markdown",
      "metadata": {
        "id": "kmuU_P81L7Cq"
      },
      "source": [
        "Mengcluster data test dengan menghitung jarak setiap data terhadap centroid yang sebelumnya sudah didapatkan"
      ]
    },
    {
      "cell_type": "code",
      "metadata": {
        "id": "8samvrQwL_ST"
      },
      "source": [
        "c_arr_test = initiateCentroidData()\n",
        "for i in range(len(data_kendaraanTest_pca)):\n",
        "    \n",
        "\n",
        "    idx_min = 0\n",
        "\n",
        "\n",
        "    min_dis = euclidianDistance(data_kendaraanTest_pca[i],centroid[idx_min])\n",
        "\n",
        "\n",
        "    for j in range(1,len(centroid)):\n",
        "\n",
        "        temp_min = euclidianDistance(data_kendaraanTest_pca[i],centroid[j])\n",
        "\n",
        "\n",
        "        if min_dis > temp_min:\n",
        "            idx_min = j\n",
        "            min_dis = temp_min\n",
        "\n",
        "    c_arr_test[idx_min].append(data_kendaraanTest_pca[i])"
      ],
      "execution_count": null,
      "outputs": []
    },
    {
      "cell_type": "markdown",
      "metadata": {
        "id": "d1GkaZWtMB5n"
      },
      "source": [
        "<h3>Visualisasi cluster data test</h3>"
      ]
    },
    {
      "cell_type": "code",
      "metadata": {
        "colab": {
          "base_uri": "https://localhost:8080/",
          "height": 265
        },
        "id": "7jNjJLilMCeu",
        "outputId": "56604946-8aa8-4e7b-cb19-e96585342d4d"
      },
      "source": [
        "for i in c_arr_test:\n",
        "    plt.scatter([row[0] for row in i],[row[1] for row in i])\n",
        "for i in centroid:\n",
        "    plt.scatter(i[0],i[1],c='white')\n",
        "plt.show()"
      ],
      "execution_count": null,
      "outputs": [
        {
          "output_type": "display_data",
          "data": {
            "image/png": "[encoded data removed]",
            "text/plain": [
              "<Figure size 432x288 with 1 Axes>"
            ]
          },
          "metadata": {
            "needs_background": "light"
          }
        }
      ]
    },
    {
      "cell_type": "markdown",
      "metadata": {
        "id": "WLPdriYJMGHK"
      },
      "source": [
        "Menyimpan hasil cluster data test"
      ]
    },
    {
      "cell_type": "code",
      "metadata": {
        "colab": {
          "base_uri": "https://localhost:8080/"
        },
        "id": "KPv_b_0XMIIT",
        "outputId": "f91b1716-0639-46bd-8871-8c04d559f2fc"
      },
      "source": [
        "try:\n",
        "    with open('clustering_result_test.csv','wb') as file:\n",
        "        #write column\n",
        "#         str_write = 'x,y,'\n",
        "#         file.write(str_write.encode())\n",
        "        file.write('label'.encode())\n",
        "        file.write('\\n'.encode())\n",
        "        #write data\n",
        "        for i in range(len(c_arr)):\n",
        "            for j in c_arr_test[i]:\n",
        "#                 str_write = ''\n",
        "#                 for k in j:\n",
        "#                     str_write = str_write+str(k)+','\n",
        "#                 file.write(str_write.encode())\n",
        "                file.write(str(i).encode()) \n",
        "                file.write('\\n'.encode())\n",
        "    print('result saved in clustering_result_test.csv')\n",
        "except:\n",
        "    print('Result cant be saved!')"
      ],
      "execution_count": null,
      "outputs": [
        {
          "output_type": "stream",
          "name": "stdout",
          "text": [
            "Result cant be saved!\n"
          ]
        }
      ]
    },
    {
      "cell_type": "markdown",
      "metadata": {
        "id": "FGxZDshlMIny"
      },
      "source": [
        "<h3>Menghitung akurasi hasil prediksi data test</h3>\n",
        "\n",
        "Ambil label pada dataset"
      ]
    },
    {
      "cell_type": "code",
      "metadata": {
        "id": "2FfjPzjBML3q"
      },
      "source": [
        "y_value_test = data_kendaraanTest['Tertarik']\n",
        "y_prediction_test = pd.read_csv('clustering_result_test.csv')\n",
        "y_prediction_test = y_prediction_test['label']"
      ],
      "execution_count": null,
      "outputs": []
    },
    {
      "cell_type": "markdown",
      "metadata": {
        "id": "tun9I4G0MOv4"
      },
      "source": [
        "Menghitung akurasinya"
      ]
    },
    {
      "cell_type": "code",
      "metadata": {
        "colab": {
          "base_uri": "https://localhost:8080/"
        },
        "id": "YRq0wUs3MPKc",
        "outputId": "65781cdb-c073-4b41-ade4-2f04bec4253a"
      },
      "source": [
        "acc = calculateAcc2d(y_value_test,y_prediction_test)\n",
        "print('Akurasi: ',acc)"
      ],
      "execution_count": null,
      "outputs": [
        {
          "output_type": "stream",
          "name": "stdout",
          "text": [
            "Akurasi:  0\n"
          ]
        }
      ]
    }
  ]
}